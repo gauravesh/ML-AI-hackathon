{
  "nbformat": 4,
  "nbformat_minor": 0,
  "metadata": {
    "colab": {
      "provenance": []
    },
    "kernelspec": {
      "name": "python3",
      "display_name": "Python 3"
    },
    "language_info": {
      "name": "python"
    }
  },
  "cells": [
    {
      "cell_type": "code",
      "execution_count": 1,
      "metadata": {
        "id": "04U8VyLVntB_"
      },
      "outputs": [],
      "source": [
        "import numpy as np\n",
        "import pandas as pd\n",
        "import warnings\n",
        "import matplotlib.pyplot as plt\n",
        "\n",
        "\n",
        "from sklearn.cluster import KMeans\n",
        "from sklearn.model_selection import train_test_split\n",
        "from sklearn.preprocessing import LabelEncoder\n",
        "from sklearn.impute import KNNImputer\n",
        "from sklearn.preprocessing import StandardScaler\n",
        "from sklearn.metrics import f1_score\n",
        "from sklearn.ensemble import RandomForestRegressor\n",
        "from sklearn.model_selection import cross_val_score\n",
        "from sklearn.tree import DecisionTreeClassifier\n",
        "\n",
        "warnings.filterwarnings('ignore')\n"
      ]
    },
    {
      "cell_type": "code",
      "source": [
        "df = pd.read_csv('/content/Training.csv')\n"
      ],
      "metadata": {
        "id": "LcaBL4P6n_zy"
      },
      "execution_count": 2,
      "outputs": []
    },
    {
      "cell_type": "code",
      "source": [
        "x = df.iloc[:,:131]\n",
        "y = df.iloc[:,131]"
      ],
      "metadata": {
        "id": "eX9PzV3aoRJs"
      },
      "execution_count": 4,
      "outputs": []
    },
    {
      "cell_type": "code",
      "source": [
        "regressor = RandomForestRegressor(n_estimators=41, random_state=0, oob_score=True)\n"
      ],
      "metadata": {
        "id": "BsA8uqXyoT7h"
      },
      "execution_count": 5,
      "outputs": []
    },
    {
      "cell_type": "code",
      "source": [
        "regressor.fit(x, y)"
      ],
      "metadata": {
        "colab": {
          "base_uri": "https://localhost:8080/",
          "height": 74
        },
        "id": "G3ypKPteob-u",
        "outputId": "df6ee557-91cb-4114-b495-c2aedb57a17b"
      },
      "execution_count": 6,
      "outputs": [
        {
          "output_type": "execute_result",
          "data": {
            "text/plain": [
              "RandomForestRegressor(n_estimators=41, oob_score=True, random_state=0)"
            ],
            "text/html": [
              "<style>#sk-container-id-1 {color: black;background-color: white;}#sk-container-id-1 pre{padding: 0;}#sk-container-id-1 div.sk-toggleable {background-color: white;}#sk-container-id-1 label.sk-toggleable__label {cursor: pointer;display: block;width: 100%;margin-bottom: 0;padding: 0.3em;box-sizing: border-box;text-align: center;}#sk-container-id-1 label.sk-toggleable__label-arrow:before {content: \"▸\";float: left;margin-right: 0.25em;color: #696969;}#sk-container-id-1 label.sk-toggleable__label-arrow:hover:before {color: black;}#sk-container-id-1 div.sk-estimator:hover label.sk-toggleable__label-arrow:before {color: black;}#sk-container-id-1 div.sk-toggleable__content {max-height: 0;max-width: 0;overflow: hidden;text-align: left;background-color: #f0f8ff;}#sk-container-id-1 div.sk-toggleable__content pre {margin: 0.2em;color: black;border-radius: 0.25em;background-color: #f0f8ff;}#sk-container-id-1 input.sk-toggleable__control:checked~div.sk-toggleable__content {max-height: 200px;max-width: 100%;overflow: auto;}#sk-container-id-1 input.sk-toggleable__control:checked~label.sk-toggleable__label-arrow:before {content: \"▾\";}#sk-container-id-1 div.sk-estimator input.sk-toggleable__control:checked~label.sk-toggleable__label {background-color: #d4ebff;}#sk-container-id-1 div.sk-label input.sk-toggleable__control:checked~label.sk-toggleable__label {background-color: #d4ebff;}#sk-container-id-1 input.sk-hidden--visually {border: 0;clip: rect(1px 1px 1px 1px);clip: rect(1px, 1px, 1px, 1px);height: 1px;margin: -1px;overflow: hidden;padding: 0;position: absolute;width: 1px;}#sk-container-id-1 div.sk-estimator {font-family: monospace;background-color: #f0f8ff;border: 1px dotted black;border-radius: 0.25em;box-sizing: border-box;margin-bottom: 0.5em;}#sk-container-id-1 div.sk-estimator:hover {background-color: #d4ebff;}#sk-container-id-1 div.sk-parallel-item::after {content: \"\";width: 100%;border-bottom: 1px solid gray;flex-grow: 1;}#sk-container-id-1 div.sk-label:hover label.sk-toggleable__label {background-color: #d4ebff;}#sk-container-id-1 div.sk-serial::before {content: \"\";position: absolute;border-left: 1px solid gray;box-sizing: border-box;top: 0;bottom: 0;left: 50%;z-index: 0;}#sk-container-id-1 div.sk-serial {display: flex;flex-direction: column;align-items: center;background-color: white;padding-right: 0.2em;padding-left: 0.2em;position: relative;}#sk-container-id-1 div.sk-item {position: relative;z-index: 1;}#sk-container-id-1 div.sk-parallel {display: flex;align-items: stretch;justify-content: center;background-color: white;position: relative;}#sk-container-id-1 div.sk-item::before, #sk-container-id-1 div.sk-parallel-item::before {content: \"\";position: absolute;border-left: 1px solid gray;box-sizing: border-box;top: 0;bottom: 0;left: 50%;z-index: -1;}#sk-container-id-1 div.sk-parallel-item {display: flex;flex-direction: column;z-index: 1;position: relative;background-color: white;}#sk-container-id-1 div.sk-parallel-item:first-child::after {align-self: flex-end;width: 50%;}#sk-container-id-1 div.sk-parallel-item:last-child::after {align-self: flex-start;width: 50%;}#sk-container-id-1 div.sk-parallel-item:only-child::after {width: 0;}#sk-container-id-1 div.sk-dashed-wrapped {border: 1px dashed gray;margin: 0 0.4em 0.5em 0.4em;box-sizing: border-box;padding-bottom: 0.4em;background-color: white;}#sk-container-id-1 div.sk-label label {font-family: monospace;font-weight: bold;display: inline-block;line-height: 1.2em;}#sk-container-id-1 div.sk-label-container {text-align: center;}#sk-container-id-1 div.sk-container {/* jupyter's `normalize.less` sets `[hidden] { display: none; }` but bootstrap.min.css set `[hidden] { display: none !important; }` so we also need the `!important` here to be able to override the default hidden behavior on the sphinx rendered scikit-learn.org. See: https://github.com/scikit-learn/scikit-learn/issues/21755 */display: inline-block !important;position: relative;}#sk-container-id-1 div.sk-text-repr-fallback {display: none;}</style><div id=\"sk-container-id-1\" class=\"sk-top-container\"><div class=\"sk-text-repr-fallback\"><pre>RandomForestRegressor(n_estimators=41, oob_score=True, random_state=0)</pre><b>In a Jupyter environment, please rerun this cell to show the HTML representation or trust the notebook. <br />On GitHub, the HTML representation is unable to render, please try loading this page with nbviewer.org.</b></div><div class=\"sk-container\" hidden><div class=\"sk-item\"><div class=\"sk-estimator sk-toggleable\"><input class=\"sk-toggleable__control sk-hidden--visually\" id=\"sk-estimator-id-1\" type=\"checkbox\" checked><label for=\"sk-estimator-id-1\" class=\"sk-toggleable__label sk-toggleable__label-arrow\">RandomForestRegressor</label><div class=\"sk-toggleable__content\"><pre>RandomForestRegressor(n_estimators=41, oob_score=True, random_state=0)</pre></div></div></div></div></div>"
            ]
          },
          "metadata": {},
          "execution_count": 6
        }
      ]
    },
    {
      "cell_type": "code",
      "source": [
        "# load testing data\n",
        "test_df = pd.read_csv('/content/Testing.csv')\n"
      ],
      "metadata": {
        "id": "pM9nt11UoeWQ"
      },
      "execution_count": 12,
      "outputs": []
    },
    {
      "cell_type": "code",
      "source": [
        "x_test = test_df.iloc[:,:131]\n",
        "y_test = test_df.iloc[:,131]\n",
        "\n"
      ],
      "metadata": {
        "id": "91nahT0loqwt"
      },
      "execution_count": null,
      "outputs": []
    },
    {
      "cell_type": "code",
      "source": [
        "disease_codes = {\n",
        "    \"Fungal infection\": 1,\n",
        "    \"Allergy\": 2,\n",
        "    \"GERD\": 3,\n",
        "    \"Chronic cholestasis\": 4,\n",
        "    \"Drug Reaction\": 5,\n",
        "    \"Peptic ulcer diseae\": 6,\n",
        "    \"AIDS\": 7,\n",
        "    \"Diabetes\": 8,\n",
        "    \"Gastroenteritis\": 9,\n",
        "    \"Bronchial Asthma\": 10,\n",
        "    \"Hypertension\": 11,\n",
        "    \"Migraine\": 12,\n",
        "    \"Cervical spondylosis\": 13,\n",
        "    \"Paralysis (brain hemorrhage)\": 14,\n",
        "    \"Jaundice\": 15,\n",
        "    \"Malaria\": 16,\n",
        "    \"Chicken pox\": 17,\n",
        "    \"Dengue\": 18,\n",
        "    \"Typhoid\": 19,\n",
        "    \"hepatitis A\": 20,\n",
        "    \"Hepatitis B\": 21,\n",
        "    \"Hepatitis C\": 22,\n",
        "    \"Hepatitis D\": 23,\n",
        "    \"Hepatitis E\": 24,\n",
        "    \"Alcoholic hepatitis\": 25,\n",
        "    \"Tuberculosis\": 26,\n",
        "    \"Common Cold\": 27,\n",
        "    \"Pneumonia\": 28,\n",
        "    \"Dimorphic hemmorhoids(piles)\": 29,\n",
        "    \"Heart attack\": 30,\n",
        "    \"Varicose veins\": 31,\n",
        "    \"Hypothyroidism\": 32,\n",
        "    \"Hyperthyroidism\": 33,\n",
        "    \"Hypoglycemia\": 34,\n",
        "    \"Osteoarthristis\": 35,\n",
        "    \"Arthritis\": 36,\n",
        "    \"(vertigo) Paroymsal Positional Vertigo\": 37,\n",
        "    \"Acne\": 38,\n",
        "    \"Urinary tract infection\": 39,\n",
        "    \"Psoriasis\": 40,\n",
        "    \"Impetigo\": 41\n",
        "}\n"
      ],
      "metadata": {
        "id": "59Khv5aBo9G4"
      },
      "execution_count": 17,
      "outputs": []
    },
    {
      "cell_type": "code",
      "source": [
        "# Using an explicit loop to iterate and replace (less efficient)\n",
        "for index, row in enumerate(y_test):\n",
        "    if row in disease_codes:  # Check if the disease name exists in the dictionary\n",
        "        y_test.iloc[index] = disease_codes[row]\n",
        "    else:\n",
        "      y_test.iloc[index] = 0\n",
        "print(y_test)\n"
      ],
      "metadata": {
        "id": "Y0djXL7xqJV1"
      },
      "execution_count": null,
      "outputs": []
    },
    {
      "cell_type": "code",
      "source": [
        "y_pred = regressor.predict(x_test)"
      ],
      "metadata": {
        "id": "0vIPz6cmqJl4"
      },
      "execution_count": 20,
      "outputs": []
    },
    {
      "cell_type": "code",
      "source": [
        "from sklearn.metrics import precision_score, accuracy_score, classification_report, confusion_matrix"
      ],
      "metadata": {
        "id": "x1FqxhJiqOMK"
      },
      "execution_count": 21,
      "outputs": []
    },
    {
      "cell_type": "code",
      "source": [
        "y_pred = y_pred.astype(int)\n",
        "y_test_array = y_test.astype(int)"
      ],
      "metadata": {
        "id": "qlwBHqshqQuW"
      },
      "execution_count": 22,
      "outputs": []
    },
    {
      "cell_type": "code",
      "source": [
        "precision = precision_score(y_test_array, y_pred, average='weighted')"
      ],
      "metadata": {
        "id": "1HO2OtXJqStn"
      },
      "execution_count": 23,
      "outputs": []
    },
    {
      "cell_type": "code",
      "source": [
        "# prompt: get me the precision and accuracy also along with the complete matrix\n",
        "\n",
        "from sklearn.metrics import precision_score, accuracy_score, classification_report, confusion_matrix\n",
        "\n",
        "# Calculate precision score\n",
        "precision = precision_score(y_test_array, y_pred, average='weighted')\n",
        "\n",
        "# Calculate accuracy score\n",
        "accuracy = accuracy_score(y_test_array, y_pred)\n",
        "\n",
        "# Generate classification report\n",
        "report = classification_report(y_test_array, y_pred)\n",
        "\n",
        "# Generate confusion matrix\n",
        "matrix = confusion_matrix(y_test_array, y_pred)\n",
        "\n",
        "# Print all the results\n",
        "\n",
        "print(\"Precision Score:\", precision)\n",
        "print(\"Accuracy Score:\", accuracy)\n",
        "print(\"Classification Report:\\n\", report)\n",
        "print(\"Confusion Matrix:\\n\", matrix)\n"
      ],
      "metadata": {
        "id": "STrRklhqqUbE"
      },
      "execution_count": null,
      "outputs": []
    },
    {
      "cell_type": "code",
      "source": [
        "tester=x_test.iloc[4]\n",
        "# Reshape 'tester' to be 2-dimensional\n",
        "tester_reshaped = tester.values.reshape(1, -1)\n",
        "\n",
        "\n",
        "\n",
        "# Now make a prediction with the reshaped data\n",
        "prediction_of_test = regressor.predict(tester_reshaped)\n",
        "\n",
        "# Print the prediction\n",
        "print(prediction_of_test)\n"
      ],
      "metadata": {
        "colab": {
          "base_uri": "https://localhost:8080/"
        },
        "id": "YIY9GvOdqWUn",
        "outputId": "4a24bf37-2f0b-490b-dd21-49823165e3b4"
      },
      "execution_count": 26,
      "outputs": [
        {
          "output_type": "stream",
          "name": "stdout",
          "text": [
            "[5.]\n"
          ]
        }
      ]
    },
    {
      "cell_type": "code",
      "source": [
        "def get_key(val):\n",
        "    val=int(round(val))\n",
        "\n",
        "    for key, value in disease_codes.items():\n",
        "        if val == value:\n",
        "            return key\n",
        "\n",
        "    return \"disease not present in database\""
      ],
      "metadata": {
        "id": "gvZIvysXqZq1"
      },
      "execution_count": 27,
      "outputs": []
    },
    {
      "cell_type": "code",
      "source": [
        "print(get_key(prediction_of_test))"
      ],
      "metadata": {
        "colab": {
          "base_uri": "https://localhost:8080/"
        },
        "id": "nK1e5HxBqeGh",
        "outputId": "398620b3-c2f2-44f8-bc1b-fa89a9e3ae1e"
      },
      "execution_count": 28,
      "outputs": [
        {
          "output_type": "stream",
          "name": "stdout",
          "text": [
            "Drug Reaction\n"
          ]
        }
      ]
    },
    {
      "cell_type": "code",
      "source": [
        "# Assuming this list includes all the symptoms your model was trained on\n",
        "all_symptoms = [\n",
        "    'itching', 'skin_rash', 'nodal_skin_eruptions', 'continuous_sneezing',\n",
        "    'shivering', 'chills', 'joint_pain', 'stomach_pain', 'acidity',\n",
        "    'ulcers_on_tongue', 'muscle_wasting', 'vomiting', 'burning_micturition',\n",
        "    'spotting_ urination', 'fatigue', 'weight_gain', 'anxiety', 'cold_hands_and_feets',\n",
        "    'mood_swings', 'weight_loss', 'restlessness', 'lethargy', 'patches_in_throat',\n",
        "    'irregular_sugar_level', 'cough', 'high_fever', 'sunken_eyes', 'breathlessness',\n",
        "    'sweating', 'dehydration', 'indigestion', 'headache', 'yellowish_skin', 'dark_urine',\n",
        "    'nausea', 'loss_of_appetite', 'pain_behind_the_eyes', 'back_pain', 'constipation',\n",
        "    'abdominal_pain', 'diarrhoea', 'mild_fever', 'yellow_urine', 'yellowing_of_eyes',\n",
        "    'acute_liver_failure', 'fluid_overload', 'swelling_of_stomach', 'swelled_lymph_nodes',\n",
        "    'malaise', 'blurred_and_distorted_vision', 'phlegm', 'throat_irritation',\n",
        "    'redness_of_eyes', 'sinus_pressure', 'runny_nose', 'congestion', 'chest_pain',\n",
        "    'weakness_in_limbs', 'fast_heart_rate', 'pain_during_bowel_movements',\n",
        "    'pain_in_anal_region', 'bloody_stool', 'irritation_in_anus', 'neck_pain', 'dizziness',\n",
        "    'cramps', 'bruising', 'obesity', 'swollen_legs', 'swollen_blood_vessels',\n",
        "    'puffy_face_and_eyes', 'enlarged_thyroid', 'brittle_nails', 'swollen_extremeties',\n",
        "    'excessive_hunger', 'extra_marital_contacts', 'drying_and_tingling_lips', 'slurred_speech',\n",
        "    'knee_pain', 'hip_joint_pain', 'muscle_weakness', 'stiff_neck', 'swelling_joints',\n",
        "    'movement_stiffness', 'spinning_movements', 'loss_of_balance', 'unsteadiness',\n",
        "    'weakness_of_one_body_side', 'loss_of_smell', 'bladder_discomfort', 'foul_smell_of_urine',\n",
        "    'continuous_feel_of_urine', 'passage_of_gases', 'internal_itching', 'toxic_look_(typhos)',\n",
        "    'depression', 'irritability', 'muscle_pain', 'altered_sensorium', 'red_spots_over_body',\n",
        "    'belly_pain', 'abnormal_menstruation', 'dischromic _patches', 'watering_from_eyes',\n",
        "    'increased_appetite', 'polyuria', 'family_history', 'mucoid_sputum', 'rusty_sputum',\n",
        "    'lack_of_concentration', 'visual_disturbances', 'receiving_blood_transfusion',\n",
        "    'receiving_unsterile_injections', 'coma', 'stomach_bleeding', 'distention_of_abdomen',\n",
        "    'history_of_alcohol_consumption', 'blood_in_sputum',\n",
        "    'prominent_veins_on_calf', 'palpitations', 'painful_walking', 'pus_filled_pimples',\n",
        "    'blackheads', 'scurring', 'skin_peeling', 'silver_like_dusting', 'small_dents_in_nails',\n",
        "    'inflammatory_nails', 'blister', 'red_sore_around_nose', 'yellow_crust_ooze'\n",
        "    # Add all other symptoms here\n",
        "]\n",
        "\n",
        "print(len(all_symptoms))\n"
      ],
      "metadata": {
        "colab": {
          "base_uri": "https://localhost:8080/"
        },
        "id": "6X61sMK-qgIy",
        "outputId": "655caf25-7471-4eae-d0c8-c0769cf32130"
      },
      "execution_count": 30,
      "outputs": [
        {
          "output_type": "stream",
          "name": "stdout",
          "text": [
            "131\n"
          ]
        }
      ]
    },
    {
      "cell_type": "code",
      "source": [
        "# 1. Initialize all symptoms to zero\n",
        "symptoms_data = {symptom: 0 for symptom in all_symptoms}"
      ],
      "metadata": {
        "id": "xpi7tT4dqhrq"
      },
      "execution_count": 31,
      "outputs": []
    },
    {
      "cell_type": "code",
      "source": [
        "present_symptoms = ['itching', 'skin_rash', 'nodal_skin_eruptions']\n",
        "for symptom in present_symptoms:\n",
        "    symptoms_data[symptom] = 1"
      ],
      "metadata": {
        "id": "qHX6s9U3qqlp"
      },
      "execution_count": 32,
      "outputs": []
    },
    {
      "cell_type": "code",
      "source": [
        "test_df = pd.DataFrame([symptoms_data])"
      ],
      "metadata": {
        "id": "XowUyJZzqsmd"
      },
      "execution_count": 33,
      "outputs": []
    },
    {
      "cell_type": "code",
      "source": [
        "print(test_df.describe())"
      ],
      "metadata": {
        "id": "Zvif2_MDqvfa"
      },
      "execution_count": null,
      "outputs": []
    },
    {
      "cell_type": "code",
      "source": [
        "test_sample = test_df.values.reshape(1, -1)"
      ],
      "metadata": {
        "id": "nqmoMse7qxKS"
      },
      "execution_count": 35,
      "outputs": []
    },
    {
      "cell_type": "code",
      "source": [
        "prediction_of_test = regressor.predict(test_sample)\n",
        "\n",
        "# Print the prediction\n",
        "print(prediction_of_test)\n",
        "\n",
        "print(get_key(prediction_of_test))"
      ],
      "metadata": {
        "colab": {
          "base_uri": "https://localhost:8080/"
        },
        "id": "ot5vO7EGqz8V",
        "outputId": "21e31475-7782-4ba1-ed79-559e47a6384c"
      },
      "execution_count": 37,
      "outputs": [
        {
          "output_type": "stream",
          "name": "stdout",
          "text": [
            "[1.]\n",
            "Fungal infection\n"
          ]
        }
      ]
    },
    {
      "cell_type": "code",
      "source": [],
      "metadata": {
        "id": "gNnXrNJwq1mk"
      },
      "execution_count": null,
      "outputs": []
    },
    {
      "cell_type": "markdown",
      "source": [
        "Test 1\n"
      ],
      "metadata": {
        "id": "SnXPSOMorHJc"
      }
    },
    {
      "cell_type": "code",
      "source": [
        "# 1. Initialize all symptoms to zero\n",
        "symptoms_data = {symptom: 0 for symptom in all_symptoms}"
      ],
      "metadata": {
        "id": "ml5od1ZWrIc6"
      },
      "execution_count": 38,
      "outputs": []
    },
    {
      "cell_type": "markdown",
      "source": [],
      "metadata": {
        "id": "RSByxeairlCC"
      }
    },
    {
      "cell_type": "markdown",
      "source": [],
      "metadata": {
        "id": "gy9e6Fcdu2q3"
      }
    },
    {
      "cell_type": "code",
      "source": [
        "present_symptoms = ['cold_hands_and_feets','loss_of_smell','runny_nose','congestion']\n",
        "for symptom in present_symptoms:\n",
        "    symptoms_data[symptom] = 1"
      ],
      "metadata": {
        "id": "ZyHPY1pWrMGX"
      },
      "execution_count": 39,
      "outputs": []
    },
    {
      "cell_type": "code",
      "source": [
        "test_df = pd.DataFrame([symptoms_data])"
      ],
      "metadata": {
        "id": "5dfnV6dlrnfw"
      },
      "execution_count": 40,
      "outputs": []
    },
    {
      "cell_type": "code",
      "source": [
        "test_sample = test_df.values.reshape(1, -1)"
      ],
      "metadata": {
        "id": "XwCeVYxHrpI7"
      },
      "execution_count": 41,
      "outputs": []
    },
    {
      "cell_type": "code",
      "source": [
        "prediction_of_test = regressor.predict(test_sample)\n",
        "\n",
        "# Print the prediction\n",
        "print(type(prediction_of_test))\n",
        "\n",
        "\n",
        "#rounding function\n",
        "for i in prediction_of_test:\n",
        "  a=int(round(i))\n",
        "print(type(a))\n",
        "print(get_key(a))"
      ],
      "metadata": {
        "colab": {
          "base_uri": "https://localhost:8080/"
        },
        "id": "fuYqdaXNrrAY",
        "outputId": "1f2fdcc5-d244-40d2-df57-cc8d86ada2b6"
      },
      "execution_count": 50,
      "outputs": [
        {
          "output_type": "stream",
          "name": "stdout",
          "text": [
            "<class 'numpy.ndarray'>\n",
            "<class 'int'>\n",
            "Typhoid\n"
          ]
        }
      ]
    },
    {
      "cell_type": "markdown",
      "source": [
        "Case 2"
      ],
      "metadata": {
        "id": "cmM_SeBds01R"
      }
    },
    {
      "cell_type": "code",
      "source": [
        "migraine_symptoms = ['headache','nausea','vomiting']\n",
        "\n",
        "all_symptoms = {symptom: 0 for symptom in all_symptoms}\n",
        "\n",
        "# Set the Migraine-associated symptoms to 1 (present)\n",
        "for symptom in migraine_symptoms:\n",
        "    all_symptoms[symptom] = 1\n",
        "\n",
        "# Convert the dictionary to a DataFrame\n",
        "test_df = pd.DataFrame([all_symptoms])\n",
        "\n",
        "# Reshape the DataFrame to match the expected input shape for the model\n",
        "test_sample = test_df.values.reshape(1, -1)\n",
        "\n",
        "\n",
        "prediction_of_test = regressor.predict(test_sample)\n",
        "\n",
        "# Print the prediction\n",
        "print(prediction_of_test)\n",
        "\n",
        "\n",
        "#rounding function\n",
        "for i in prediction_of_test:\n",
        "  a=int(round(i))\n",
        "print(a)\n",
        "print(get_key(a))\n"
      ],
      "metadata": {
        "id": "6tVhCr09rsWh"
      },
      "execution_count": null,
      "outputs": []
    },
    {
      "cell_type": "code",
      "source": [],
      "metadata": {
        "id": "UbNofGujukoD"
      },
      "execution_count": null,
      "outputs": []
    }
  ]
}